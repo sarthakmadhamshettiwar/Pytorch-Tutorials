{
 "cells": [
  {
   "cell_type": "code",
   "execution_count": 1,
   "id": "6e2a7c75",
   "metadata": {},
   "outputs": [],
   "source": [
    "import torch\n",
    "import numpy as np"
   ]
  },
  {
   "cell_type": "markdown",
   "id": "76586184",
   "metadata": {},
   "source": [
    "### Creating and Operating Torch Tensors"
   ]
  },
  {
   "cell_type": "code",
   "execution_count": 2,
   "id": "5116ee54",
   "metadata": {},
   "outputs": [
    {
     "data": {
      "text/plain": [
       "tensor([[-1.4111e-37,  1.2822e-42],\n",
       "        [ 0.0000e+00,  0.0000e+00]])"
      ]
     },
     "execution_count": 2,
     "metadata": {},
     "output_type": "execute_result"
    }
   ],
   "source": [
    "x = torch.empty(2,2)\n",
    "x"
   ]
  },
  {
   "cell_type": "code",
   "execution_count": 4,
   "id": "dbb00e0c",
   "metadata": {},
   "outputs": [
    {
     "data": {
      "text/plain": [
       "tensor([[0.1187, 0.5888, 0.8795],\n",
       "        [0.4706, 0.8706, 0.0607]])"
      ]
     },
     "execution_count": 4,
     "metadata": {},
     "output_type": "execute_result"
    }
   ],
   "source": [
    "x = torch.rand(2,3)\n",
    "x"
   ]
  },
  {
   "cell_type": "code",
   "execution_count": 5,
   "id": "8a25b4e9",
   "metadata": {},
   "outputs": [
    {
     "data": {
      "text/plain": [
       "tensor([[1., 1.],\n",
       "        [1., 1.],\n",
       "        [1., 1.],\n",
       "        [1., 1.]])"
      ]
     },
     "execution_count": 5,
     "metadata": {},
     "output_type": "execute_result"
    }
   ],
   "source": [
    "x = torch.ones(4,2) #similar for zeros\n",
    "x"
   ]
  },
  {
   "cell_type": "code",
   "execution_count": 6,
   "id": "4f11ec52",
   "metadata": {},
   "outputs": [
    {
     "name": "stdout",
     "output_type": "stream",
     "text": [
      "torch.float32\n"
     ]
    }
   ],
   "source": [
    "print(x.dtype)"
   ]
  },
  {
   "cell_type": "code",
   "execution_count": 8,
   "id": "a5136f8b",
   "metadata": {},
   "outputs": [
    {
     "data": {
      "text/plain": [
       "tensor([[1, 0, 0],\n",
       "        [0, 1, 0],\n",
       "        [0, 0, 1]], dtype=torch.int32)"
      ]
     },
     "execution_count": 8,
     "metadata": {},
     "output_type": "execute_result"
    }
   ],
   "source": [
    "x = torch.eye(3, dtype=torch.int)\n",
    "x"
   ]
  },
  {
   "cell_type": "code",
   "execution_count": 9,
   "id": "13100be1",
   "metadata": {},
   "outputs": [
    {
     "data": {
      "text/plain": [
       "tensor([1, 2, 3])"
      ]
     },
     "execution_count": 9,
     "metadata": {},
     "output_type": "execute_result"
    }
   ],
   "source": [
    "x = torch.tensor([1,2,3])\n",
    "x"
   ]
  },
  {
   "cell_type": "code",
   "execution_count": 11,
   "id": "b64270b3",
   "metadata": {},
   "outputs": [
    {
     "name": "stdout",
     "output_type": "stream",
     "text": [
      "tensor([[0.0036, 0.7788],\n",
      "        [0.5464, 0.3238]])\n",
      "tensor([[0.2049, 0.3071],\n",
      "        [0.6437, 0.5633]])\n",
      "tensor([[0.2086, 1.0859],\n",
      "        [1.1900, 0.8872]])\n"
     ]
    }
   ],
   "source": [
    "x = torch.rand(2,2)\n",
    "y = torch.rand(2,2)\n",
    "print(x)\n",
    "print(y)\n",
    "z = x+y\n",
    "print(z)"
   ]
  },
  {
   "cell_type": "code",
   "execution_count": 12,
   "id": "34621938",
   "metadata": {},
   "outputs": [
    {
     "data": {
      "text/plain": [
       "tensor([[0.2086, 1.0859],\n",
       "        [1.1900, 0.8872]])"
      ]
     },
     "execution_count": 12,
     "metadata": {},
     "output_type": "execute_result"
    }
   ],
   "source": [
    "torch.add(x,y) #torch.sub(x, y) -> element wise subtraction"
   ]
  },
  {
   "cell_type": "code",
   "execution_count": 13,
   "id": "7e52cfa3",
   "metadata": {},
   "outputs": [
    {
     "data": {
      "text/plain": [
       "tensor([[0.0007, 0.2392],\n",
       "        [0.3517, 0.1824]])"
      ]
     },
     "execution_count": 13,
     "metadata": {},
     "output_type": "execute_result"
    }
   ],
   "source": [
    "torch.mul(x, y) #element wise matrix multiplication."
   ]
  },
  {
   "cell_type": "code",
   "execution_count": 14,
   "id": "7f0a1094",
   "metadata": {},
   "outputs": [
    {
     "data": {
      "text/plain": [
       "tensor([[0.0007, 0.2392],\n",
       "        [0.3517, 0.1824]])"
      ]
     },
     "execution_count": 14,
     "metadata": {},
     "output_type": "execute_result"
    }
   ],
   "source": [
    "x*y #element wise multiplication"
   ]
  },
  {
   "cell_type": "code",
   "execution_count": 14,
   "id": "274f5d37",
   "metadata": {},
   "outputs": [
    {
     "name": "stdout",
     "output_type": "stream",
     "text": [
      "tensor([[0.5444, 0.4572, 0.1721],\n",
      "        [0.8924, 0.5640, 0.8482]])\n"
     ]
    }
   ],
   "source": [
    "x = torch.rand(2,3)\n",
    "print(x)"
   ]
  },
  {
   "cell_type": "code",
   "execution_count": 15,
   "id": "9820e4b7",
   "metadata": {},
   "outputs": [
    {
     "data": {
      "text/plain": [
       "tensor([[0.5444, 0.8924],\n",
       "        [0.4572, 0.5640],\n",
       "        [0.1721, 0.8482]])"
      ]
     },
     "execution_count": 15,
     "metadata": {},
     "output_type": "execute_result"
    }
   ],
   "source": [
    "# Transpose entire matrix\n",
    "x.T"
   ]
  },
  {
   "cell_type": "markdown",
   "id": "a06f7ce2",
   "metadata": {},
   "source": [
    "**.transpose** \n",
    "- .transpose(input, dim0, dim1): it swaps dim0 and dim1"
   ]
  },
  {
   "cell_type": "code",
   "execution_count": 20,
   "id": "95a6c356",
   "metadata": {},
   "outputs": [],
   "source": [
    "# .transpose(input, dim0, dim1)\n"
   ]
  },
  {
   "cell_type": "code",
   "execution_count": 23,
   "id": "c5de7da0",
   "metadata": {},
   "outputs": [
    {
     "data": {
      "text/plain": [
       "torch.Size([3, 2, 2])"
      ]
     },
     "execution_count": 23,
     "metadata": {},
     "output_type": "execute_result"
    }
   ],
   "source": [
    "x = torch.rand(3,2,2)\n",
    "x.size() # created a 3D tensor, or a list of 3 tensor"
   ]
  },
  {
   "cell_type": "code",
   "execution_count": 34,
   "id": "1cfc80cd",
   "metadata": {},
   "outputs": [
    {
     "data": {
      "text/plain": [
       "tensor([[0.0567, 0.2712],\n",
       "        [0.5408, 0.6115]])"
      ]
     },
     "execution_count": 34,
     "metadata": {},
     "output_type": "execute_result"
    }
   ],
   "source": [
    "x[0][:][:] # 0th dimension represent entire tensor"
   ]
  },
  {
   "cell_type": "code",
   "execution_count": 36,
   "id": "3b042851",
   "metadata": {},
   "outputs": [
    {
     "data": {
      "text/plain": [
       "tensor([0.0567, 0.2712])"
      ]
     },
     "execution_count": 36,
     "metadata": {},
     "output_type": "execute_result"
    }
   ],
   "source": [
    "x[0][0][:] # 1st dimension represent entire row"
   ]
  },
  {
   "cell_type": "code",
   "execution_count": null,
   "id": "fd39cfa7",
   "metadata": {},
   "outputs": [],
   "source": [
    "# and the 2nd dimension represent the column"
   ]
  },
  {
   "cell_type": "code",
   "execution_count": 30,
   "id": "7ef9b63a",
   "metadata": {},
   "outputs": [
    {
     "name": "stdout",
     "output_type": "stream",
     "text": [
      "tensor([[[0.0567, 0.2712],\n",
      "         [0.5408, 0.6115]],\n",
      "\n",
      "        [[0.8543, 0.0889],\n",
      "         [0.1819, 0.0730]],\n",
      "\n",
      "        [[0.7066, 0.5724],\n",
      "         [0.3822, 0.2085]]])\n"
     ]
    }
   ],
   "source": [
    "print(x)"
   ]
  },
  {
   "cell_type": "code",
   "execution_count": 44,
   "id": "9f1e0b4c",
   "metadata": {},
   "outputs": [
    {
     "data": {
      "text/plain": [
       "tensor([[[0.0567, 0.5408],\n",
       "         [0.2712, 0.6115]],\n",
       "\n",
       "        [[0.8543, 0.1819],\n",
       "         [0.0889, 0.0730]],\n",
       "\n",
       "        [[0.7066, 0.3822],\n",
       "         [0.5724, 0.2085]]])"
      ]
     },
     "execution_count": 44,
     "metadata": {},
     "output_type": "execute_result"
    }
   ],
   "source": [
    "# Now we want to transpose each individual tensor, hence we want to replace 1st(row) and 2nd(cols) dimension.\n",
    "# we won't chang 0th dimension it is individual tensor's position.\n",
    "torch.transpose(x, 1, 2)"
   ]
  },
  {
   "cell_type": "markdown",
   "id": "2d39b668",
   "metadata": {},
   "source": [
    "*Now we have transposed each matrix individually.*"
   ]
  },
  {
   "cell_type": "markdown",
   "id": "71d6ae85",
   "metadata": {},
   "source": [
    "### Slicing"
   ]
  },
  {
   "cell_type": "code",
   "execution_count": 15,
   "id": "ab6f2bba",
   "metadata": {},
   "outputs": [
    {
     "name": "stdout",
     "output_type": "stream",
     "text": [
      "tensor([[0.0570, 0.6281, 0.0916],\n",
      "        [0.6184, 0.9647, 0.1983],\n",
      "        [0.3455, 0.0257, 0.2636],\n",
      "        [0.5358, 0.1768, 0.4938],\n",
      "        [0.2383, 0.1518, 0.3122]])\n",
      "tensor([0.0570, 0.6184, 0.3455, 0.5358, 0.2383])\n"
     ]
    }
   ],
   "source": [
    "x = torch.rand(5,3)\n",
    "print(x)\n",
    "print(x[:,0]) # All the rows, but only 0th column"
   ]
  },
  {
   "cell_type": "code",
   "execution_count": 16,
   "id": "76d99363",
   "metadata": {},
   "outputs": [
    {
     "name": "stdout",
     "output_type": "stream",
     "text": [
      "tensor([0.6184, 0.9647, 0.1983])\n"
     ]
    }
   ],
   "source": [
    "print(x[1,:]) # All the columns of 2nd row"
   ]
  },
  {
   "cell_type": "code",
   "execution_count": 18,
   "id": "a7da64e6",
   "metadata": {},
   "outputs": [
    {
     "data": {
      "text/plain": [
       "tensor(0.9647)"
      ]
     },
     "execution_count": 18,
     "metadata": {},
     "output_type": "execute_result"
    }
   ],
   "source": [
    "x[1,1]"
   ]
  },
  {
   "cell_type": "code",
   "execution_count": 19,
   "id": "36443552",
   "metadata": {},
   "outputs": [
    {
     "data": {
      "text/plain": [
       "0.9646966457366943"
      ]
     },
     "execution_count": 19,
     "metadata": {},
     "output_type": "execute_result"
    }
   ],
   "source": [
    "x[1,1].item()"
   ]
  },
  {
   "cell_type": "markdown",
   "id": "e643fc7c",
   "metadata": {},
   "source": [
    "### Reshape and Inter-Conversion"
   ]
  },
  {
   "cell_type": "code",
   "execution_count": 30,
   "id": "b50bc105",
   "metadata": {},
   "outputs": [],
   "source": [
    "x = torch.eye(4)\n",
    "y = x.view(16)"
   ]
  },
  {
   "cell_type": "code",
   "execution_count": 31,
   "id": "9c0c1cf9",
   "metadata": {},
   "outputs": [
    {
     "data": {
      "text/plain": [
       "tensor([1., 0., 0., 0., 0., 1., 0., 0., 0., 0., 1., 0., 0., 0., 0., 1.])"
      ]
     },
     "execution_count": 31,
     "metadata": {},
     "output_type": "execute_result"
    }
   ],
   "source": [
    "y"
   ]
  },
  {
   "cell_type": "code",
   "execution_count": 32,
   "id": "365b6b50",
   "metadata": {},
   "outputs": [
    {
     "data": {
      "text/plain": [
       "tensor([[1., 0.],\n",
       "        [0., 0.],\n",
       "        [0., 1.],\n",
       "        [0., 0.],\n",
       "        [0., 0.],\n",
       "        [1., 0.],\n",
       "        [0., 0.],\n",
       "        [0., 1.]])"
      ]
     },
     "execution_count": 32,
     "metadata": {},
     "output_type": "execute_result"
    }
   ],
   "source": [
    "y = x.view(8,2)\n",
    "y"
   ]
  },
  {
   "cell_type": "code",
   "execution_count": 35,
   "id": "b0f7a179",
   "metadata": {},
   "outputs": [
    {
     "data": {
      "text/plain": [
       "tensor([[[1., 0., 0., 0.],\n",
       "         [0., 1., 0., 0.]],\n",
       "\n",
       "        [[0., 0., 1., 0.],\n",
       "         [0., 0., 0., 1.]]])"
      ]
     },
     "execution_count": 35,
     "metadata": {},
     "output_type": "execute_result"
    }
   ],
   "source": [
    "y = x.view(-1,2,4)\n",
    "y"
   ]
  },
  {
   "cell_type": "code",
   "execution_count": 36,
   "id": "b49ffe4d",
   "metadata": {},
   "outputs": [
    {
     "data": {
      "text/plain": [
       "torch.Size([2, 2, 4])"
      ]
     },
     "execution_count": 36,
     "metadata": {},
     "output_type": "execute_result"
    }
   ],
   "source": [
    "y.size()"
   ]
  },
  {
   "cell_type": "code",
   "execution_count": 38,
   "id": "942f0310",
   "metadata": {},
   "outputs": [
    {
     "name": "stdout",
     "output_type": "stream",
     "text": [
      "[1. 1. 1. 1. 1.]\n"
     ]
    }
   ],
   "source": [
    "# Convert torch tensor into numpy\n",
    "a = torch.ones(5)\n",
    "b = a.numpy()\n",
    "print(b)"
   ]
  },
  {
   "cell_type": "code",
   "execution_count": 39,
   "id": "13ae9630",
   "metadata": {},
   "outputs": [
    {
     "data": {
      "text/plain": [
       "tensor([1., 1., 1., 1., 1.], dtype=torch.float64)"
      ]
     },
     "execution_count": 39,
     "metadata": {},
     "output_type": "execute_result"
    }
   ],
   "source": [
    "# Convert numpy into torch tensor\n",
    "a = np.ones(5)\n",
    "b = torch.from_numpy(a)\n",
    "b"
   ]
  },
  {
   "cell_type": "code",
   "execution_count": 40,
   "id": "5bb573eb",
   "metadata": {},
   "outputs": [
    {
     "data": {
      "text/plain": [
       "tensor([2., 2., 2., 2., 2.], dtype=torch.float64)"
      ]
     },
     "execution_count": 40,
     "metadata": {},
     "output_type": "execute_result"
    }
   ],
   "source": [
    "b += 1\n",
    "b"
   ]
  },
  {
   "cell_type": "code",
   "execution_count": 41,
   "id": "9d32067f",
   "metadata": {},
   "outputs": [
    {
     "data": {
      "text/plain": [
       "array([2., 2., 2., 2., 2.])"
      ]
     },
     "execution_count": 41,
     "metadata": {},
     "output_type": "execute_result"
    }
   ],
   "source": [
    "a"
   ]
  },
  {
   "cell_type": "markdown",
   "id": "a5575fe0",
   "metadata": {},
   "source": [
    "**Note**: a and b will point to same location if only CPU is used. Be careful while modifying any of them."
   ]
  },
  {
   "cell_type": "code",
   "execution_count": 42,
   "id": "a7d9ea66",
   "metadata": {},
   "outputs": [],
   "source": [
    "x = torch.ones(5, requires_grad = True)"
   ]
  },
  {
   "cell_type": "markdown",
   "id": "496a953a",
   "metadata": {},
   "source": [
    "**Note**: requires_grad is by default False. If it is True, then it tells the pytorch that 'x' will be optimized in further steps, hence we will need its gradient."
   ]
  },
  {
   "cell_type": "markdown",
   "id": "99628012",
   "metadata": {},
   "source": [
    "### Matrix Multiplication"
   ]
  },
  {
   "cell_type": "code",
   "execution_count": 5,
   "id": "c007bb82",
   "metadata": {},
   "outputs": [
    {
     "name": "stdout",
     "output_type": "stream",
     "text": [
      "tensor([[1., 0., 0.],\n",
      "        [0., 1., 0.],\n",
      "        [0., 0., 1.]])\n",
      "tensor([[0.3786],\n",
      "        [0.8927],\n",
      "        [0.0741]])\n"
     ]
    }
   ],
   "source": [
    "x = torch.eye(3)\n",
    "y = torch.rand(3,1)\n",
    "print(x)\n",
    "print(y)"
   ]
  },
  {
   "cell_type": "code",
   "execution_count": 6,
   "id": "ba3acd79",
   "metadata": {},
   "outputs": [],
   "source": [
    "# (3,3) X (3,1) => (3,1)\n",
    "z = torch.matmul(x,y)"
   ]
  },
  {
   "cell_type": "code",
   "execution_count": 7,
   "id": "0d8f7d6c",
   "metadata": {},
   "outputs": [
    {
     "data": {
      "text/plain": [
       "tensor([[0.3786],\n",
       "        [0.8927],\n",
       "        [0.0741]])"
      ]
     },
     "execution_count": 7,
     "metadata": {},
     "output_type": "execute_result"
    }
   ],
   "source": [
    "z"
   ]
  },
  {
   "cell_type": "markdown",
   "id": "773d4710",
   "metadata": {},
   "source": [
    "**torch.bmm(ip1, ip2)**\n",
    "- performs batch matrix-matrix product\n",
    "- input : 2 3d-tensors containing same number of matrices dim(ip1) => (b, n, m), dim(ip2) => (b, m, p)\n",
    "- output : dim(bmm()) => (b,n,p)"
   ]
  },
  {
   "cell_type": "code",
   "execution_count": 9,
   "id": "8fbcea25",
   "metadata": {},
   "outputs": [],
   "source": [
    "mat1 = torch.randn(10, 3, 4)\n",
    "mat2 = torch.randn(10, 4, 5)"
   ]
  },
  {
   "cell_type": "code",
   "execution_count": 10,
   "id": "38fdba54",
   "metadata": {},
   "outputs": [],
   "source": [
    "res = torch.bmm(mat1, mat2)"
   ]
  },
  {
   "cell_type": "code",
   "execution_count": 11,
   "id": "5e999428",
   "metadata": {},
   "outputs": [
    {
     "data": {
      "text/plain": [
       "torch.Size([10, 3, 5])"
      ]
     },
     "execution_count": 11,
     "metadata": {},
     "output_type": "execute_result"
    }
   ],
   "source": [
    "res.size()"
   ]
  },
  {
   "cell_type": "code",
   "execution_count": null,
   "id": "33db3695",
   "metadata": {},
   "outputs": [],
   "source": []
  }
 ],
 "metadata": {
  "kernelspec": {
   "display_name": "Python 3 (ipykernel)",
   "language": "python",
   "name": "python3"
  },
  "language_info": {
   "codemirror_mode": {
    "name": "ipython",
    "version": 3
   },
   "file_extension": ".py",
   "mimetype": "text/x-python",
   "name": "python",
   "nbconvert_exporter": "python",
   "pygments_lexer": "ipython3",
   "version": "3.10.9"
  }
 },
 "nbformat": 4,
 "nbformat_minor": 5
}
