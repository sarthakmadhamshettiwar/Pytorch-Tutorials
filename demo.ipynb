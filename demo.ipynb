{
 "cells": [
  {
   "cell_type": "code",
   "execution_count": 1,
   "id": "0f8a9e32",
   "metadata": {},
   "outputs": [],
   "source": [
    "import torch"
   ]
  },
  {
   "cell_type": "markdown",
   "id": "de450e48",
   "metadata": {},
   "source": [
    "**tensor operations**"
   ]
  },
  {
   "cell_type": "code",
   "execution_count": 15,
   "id": "3bef1134",
   "metadata": {},
   "outputs": [],
   "source": [
    "a = torch.tensor(1)\n",
    "b = torch.tensor(2)"
   ]
  },
  {
   "cell_type": "code",
   "execution_count": 16,
   "id": "85b51023",
   "metadata": {},
   "outputs": [
    {
     "data": {
      "text/plain": [
       "tensor(1)"
      ]
     },
     "execution_count": 16,
     "metadata": {},
     "output_type": "execute_result"
    }
   ],
   "source": [
    "a"
   ]
  },
  {
   "cell_type": "code",
   "execution_count": 17,
   "id": "af6f5338",
   "metadata": {},
   "outputs": [
    {
     "data": {
      "text/plain": [
       "torch.Size([])"
      ]
     },
     "execution_count": 17,
     "metadata": {},
     "output_type": "execute_result"
    }
   ],
   "source": [
    "a.shape"
   ]
  },
  {
   "cell_type": "code",
   "execution_count": 26,
   "id": "ac37ed49",
   "metadata": {},
   "outputs": [],
   "source": [
    "a = torch.tensor([[1, 2]])\n",
    "b = torch.tensor([[1],[2]])"
   ]
  },
  {
   "cell_type": "code",
   "execution_count": 35,
   "id": "cd161cb1",
   "metadata": {},
   "outputs": [
    {
     "name": "stdout",
     "output_type": "stream",
     "text": [
      "torch.Size([1, 2]) torch.Size([2, 1])\n"
     ]
    }
   ],
   "source": [
    "print(a.shape, b.shape)"
   ]
  },
  {
   "cell_type": "code",
   "execution_count": 36,
   "id": "4d059995",
   "metadata": {},
   "outputs": [],
   "source": [
    "b = torch.ones(1,2)"
   ]
  },
  {
   "cell_type": "code",
   "execution_count": 38,
   "id": "98bb0d35",
   "metadata": {},
   "outputs": [
    {
     "data": {
      "text/plain": [
       "tensor([[2., 3.]])"
      ]
     },
     "execution_count": 38,
     "metadata": {},
     "output_type": "execute_result"
    }
   ],
   "source": [
    "a+b"
   ]
  },
  {
   "cell_type": "code",
   "execution_count": 39,
   "id": "e416107e",
   "metadata": {},
   "outputs": [
    {
     "data": {
      "text/plain": [
       "tensor([[0., 1.]])"
      ]
     },
     "execution_count": 39,
     "metadata": {},
     "output_type": "execute_result"
    }
   ],
   "source": [
    "a-b"
   ]
  },
  {
   "cell_type": "code",
   "execution_count": 43,
   "id": "54142cba",
   "metadata": {},
   "outputs": [
    {
     "name": "stdout",
     "output_type": "stream",
     "text": [
      "tensor([[1., 2.]])\n",
      "tensor([[1., 2.]])\n"
     ]
    }
   ],
   "source": [
    "print(a*b) #element-wise multiplication\n",
    "print(torch.mul(a,b))"
   ]
  },
  {
   "cell_type": "code",
   "execution_count": 44,
   "id": "b3264864",
   "metadata": {},
   "outputs": [
    {
     "ename": "RuntimeError",
     "evalue": "mat1 and mat2 shapes cannot be multiplied (1x2 and 1x2)",
     "output_type": "error",
     "traceback": [
      "\u001b[1;31m---------------------------------------------------------------------------\u001b[0m",
      "\u001b[1;31mRuntimeError\u001b[0m                              Traceback (most recent call last)",
      "Input \u001b[1;32mIn [44]\u001b[0m, in \u001b[0;36m<cell line: 1>\u001b[1;34m()\u001b[0m\n\u001b[1;32m----> 1\u001b[0m \u001b[43mtorch\u001b[49m\u001b[38;5;241;43m.\u001b[39;49m\u001b[43mmatmul\u001b[49m\u001b[43m(\u001b[49m\u001b[43ma\u001b[49m\u001b[43m,\u001b[49m\u001b[43mb\u001b[49m\u001b[43m)\u001b[49m\n",
      "\u001b[1;31mRuntimeError\u001b[0m: mat1 and mat2 shapes cannot be multiplied (1x2 and 1x2)"
     ]
    }
   ],
   "source": [
    "torch.matmul(a,b) # matrix multiplication"
   ]
  },
  {
   "cell_type": "code",
   "execution_count": 61,
   "id": "6bb72583",
   "metadata": {},
   "outputs": [],
   "source": [
    "a = torch.tensor([[1,2]], dtype=torch.float) \n",
    "#changed datatype to avoid dtype error in matmul"
   ]
  },
  {
   "cell_type": "code",
   "execution_count": 64,
   "id": "97cb4417",
   "metadata": {},
   "outputs": [
    {
     "name": "stdout",
     "output_type": "stream",
     "text": [
      "tensor([[ 1.4389, -0.9760,  1.9807, -0.9520, -1.8536],\n",
      "        [ 0.8924, -0.9110, -0.7668, -1.7203,  0.6885]])\n"
     ]
    }
   ],
   "source": [
    "r = torch.randn(2,5)\n",
    "print(r)"
   ]
  },
  {
   "cell_type": "markdown",
   "id": "9b1b52a6",
   "metadata": {},
   "source": [
    "**matrix multiplication, slicing, transpose, reshaping**"
   ]
  },
  {
   "cell_type": "code",
   "execution_count": 65,
   "id": "c8e4df78",
   "metadata": {},
   "outputs": [
    {
     "name": "stdout",
     "output_type": "stream",
     "text": [
      "tensor([[ 3.2237, -2.7980,  0.4471, -4.3925, -0.4765]])\n"
     ]
    }
   ],
   "source": [
    "# (1,2) X (2, 5) => (1, 5)\n",
    "c = torch.matmul(a, r)\n",
    "print(c)"
   ]
  },
  {
   "cell_type": "code",
   "execution_count": 66,
   "id": "9427986b",
   "metadata": {},
   "outputs": [
    {
     "data": {
      "text/plain": [
       "torch.Size([1, 5])"
      ]
     },
     "execution_count": 66,
     "metadata": {},
     "output_type": "execute_result"
    }
   ],
   "source": [
    "c.shape"
   ]
  },
  {
   "cell_type": "code",
   "execution_count": 76,
   "id": "d1fd3812",
   "metadata": {},
   "outputs": [
    {
     "name": "stdout",
     "output_type": "stream",
     "text": [
      "tensor([-2.7980,  0.4471])\n",
      "tensor([-2.7980,  0.4471, -4.3925])\n"
     ]
    }
   ],
   "source": [
    "print(c[0][1:3])\n",
    "print(c[0][1:-1])"
   ]
  },
  {
   "cell_type": "code",
   "execution_count": 84,
   "id": "627ffbff",
   "metadata": {},
   "outputs": [
    {
     "name": "stdout",
     "output_type": "stream",
     "text": [
      "tensor([ 3.2237, -2.7980,  0.4471, -4.3925, -0.4765])\n"
     ]
    }
   ],
   "source": [
    "print(c[0][:]) # print entire row"
   ]
  },
  {
   "cell_type": "code",
   "execution_count": 91,
   "id": "1522cb17",
   "metadata": {},
   "outputs": [],
   "source": [
    "transposed_r = torch.transpose(r, 0, 1) #swap rows(0) with cols(1)"
   ]
  },
  {
   "cell_type": "code",
   "execution_count": 92,
   "id": "0f44aba6",
   "metadata": {},
   "outputs": [
    {
     "data": {
      "text/plain": [
       "tensor([[ 1.4389,  0.8924],\n",
       "        [-0.9760, -0.9110],\n",
       "        [ 1.9807, -0.7668],\n",
       "        [-0.9520, -1.7203],\n",
       "        [-1.8536,  0.6885]])"
      ]
     },
     "execution_count": 92,
     "metadata": {},
     "output_type": "execute_result"
    }
   ],
   "source": [
    "transposed_r"
   ]
  },
  {
   "cell_type": "code",
   "execution_count": 93,
   "id": "238a6234",
   "metadata": {},
   "outputs": [
    {
     "data": {
      "text/plain": [
       "torch.Size([5, 2])"
      ]
     },
     "execution_count": 93,
     "metadata": {},
     "output_type": "execute_result"
    }
   ],
   "source": [
    "transposed_r.shape"
   ]
  },
  {
   "cell_type": "code",
   "execution_count": null,
   "id": "7abaa92c",
   "metadata": {},
   "outputs": [],
   "source": []
  },
  {
   "cell_type": "code",
   "execution_count": 94,
   "id": "bdeed52c",
   "metadata": {},
   "outputs": [],
   "source": [
    "x = torch.randn(1,12)"
   ]
  },
  {
   "cell_type": "code",
   "execution_count": 95,
   "id": "e3d61839",
   "metadata": {},
   "outputs": [
    {
     "data": {
      "text/plain": [
       "tensor([[ 0.1761, -0.1710, -0.5520,  0.5596, -0.0193, -1.8063,  1.1434, -0.0116,\n",
       "          1.6118, -1.6359, -2.1352,  0.0660]])"
      ]
     },
     "execution_count": 95,
     "metadata": {},
     "output_type": "execute_result"
    }
   ],
   "source": [
    "x"
   ]
  },
  {
   "cell_type": "code",
   "execution_count": 96,
   "id": "6312ea44",
   "metadata": {},
   "outputs": [],
   "source": [
    "y = x.view(2,6)\n",
    "z = x.view(4,3)"
   ]
  },
  {
   "cell_type": "code",
   "execution_count": 98,
   "id": "33bc889d",
   "metadata": {},
   "outputs": [
    {
     "name": "stdout",
     "output_type": "stream",
     "text": [
      "tensor([[ 0.1761, -0.1710, -0.5520,  0.5596, -0.0193, -1.8063],\n",
      "        [ 1.1434, -0.0116,  1.6118, -1.6359, -2.1352,  0.0660]]) torch.Size([2, 6])\n",
      "tensor([[ 0.1761, -0.1710, -0.5520],\n",
      "        [ 0.5596, -0.0193, -1.8063],\n",
      "        [ 1.1434, -0.0116,  1.6118],\n",
      "        [-1.6359, -2.1352,  0.0660]]) torch.Size([4, 3])\n"
     ]
    }
   ],
   "source": [
    "print(y, y.shape)\n",
    "print(z, z.shape)"
   ]
  },
  {
   "cell_type": "code",
   "execution_count": null,
   "id": "f5c57755",
   "metadata": {},
   "outputs": [],
   "source": []
  },
  {
   "cell_type": "code",
   "execution_count": null,
   "id": "d3e6a9f0",
   "metadata": {},
   "outputs": [],
   "source": []
  },
  {
   "cell_type": "markdown",
   "id": "a9abc904",
   "metadata": {},
   "source": [
    "**Autograd for vector**"
   ]
  },
  {
   "cell_type": "code",
   "execution_count": 36,
   "id": "f0595d01",
   "metadata": {},
   "outputs": [],
   "source": [
    "a = torch.tensor([1,1], dtype=torch.float, requires_grad = True)\n",
    "b = torch.tensor([2,3], dtype=torch.float, requires_grad = True)"
   ]
  },
  {
   "cell_type": "code",
   "execution_count": 39,
   "id": "d1f3be5b",
   "metadata": {},
   "outputs": [
    {
     "name": "stdout",
     "output_type": "stream",
     "text": [
      "tensor([-1., -3.], grad_fn=<SubBackward0>)\n"
     ]
    }
   ],
   "source": [
    "Q = 3*a**2 - 2*b # Assume it to be loss func\n",
    "print(Q)"
   ]
  },
  {
   "cell_type": "code",
   "execution_count": 41,
   "id": "788d3c0c",
   "metadata": {},
   "outputs": [],
   "source": [
    "# Now we want to find derivative of Q wrt to 'a' and 'b', but since 'a' and 'b' are vector we will need external_grad\n",
    "external_grad = torch.tensor([1., 1.])\n",
    "Q.backward(gradient=external_grad)"
   ]
  },
  {
   "cell_type": "code",
   "execution_count": 42,
   "id": "aeb67e46",
   "metadata": {},
   "outputs": [
    {
     "data": {
      "text/plain": [
       "tensor([6., 6.])"
      ]
     },
     "execution_count": 42,
     "metadata": {},
     "output_type": "execute_result"
    }
   ],
   "source": [
    "a.grad"
   ]
  },
  {
   "cell_type": "code",
   "execution_count": 43,
   "id": "22e08936",
   "metadata": {},
   "outputs": [
    {
     "data": {
      "text/plain": [
       "tensor([-2., -2.])"
      ]
     },
     "execution_count": 43,
     "metadata": {},
     "output_type": "execute_result"
    }
   ],
   "source": [
    "b.grad"
   ]
  },
  {
   "cell_type": "code",
   "execution_count": 44,
   "id": "0f2e4eaf",
   "metadata": {},
   "outputs": [
    {
     "name": "stdout",
     "output_type": "stream",
     "text": [
      "tensor([True, True])\n",
      "tensor([True, True])\n"
     ]
    }
   ],
   "source": [
    "print(a.grad == 6*a)\n",
    "print(b.grad == -2)"
   ]
  },
  {
   "cell_type": "markdown",
   "id": "007263e8",
   "metadata": {},
   "source": [
    "**Running Entire Trainin Loop in Pytorch for Linear Regression**"
   ]
  },
  {
   "cell_type": "code",
   "execution_count": 2,
   "id": "eb6b078d",
   "metadata": {},
   "outputs": [
    {
     "name": "stdout",
     "output_type": "stream",
     "text": [
      "Shape of x : torch.Size([4, 1])\n",
      "Shape of y : torch.Size([4, 1])\n"
     ]
    }
   ],
   "source": [
    "x = torch.tensor([[1],[2],[3],[4]], dtype=torch.float32)\n",
    "y = torch.tensor([[2],[4],[6],[7]], dtype=torch.float32)\n",
    "print(f'Shape of x : {x.shape}')\n",
    "print(f'Shape of y : {y.shape}')"
   ]
  },
  {
   "cell_type": "code",
   "execution_count": 4,
   "id": "fef5ff2a",
   "metadata": {},
   "outputs": [],
   "source": [
    "import torch.nn as nn"
   ]
  },
  {
   "cell_type": "code",
   "execution_count": 5,
   "id": "f4d9c054",
   "metadata": {},
   "outputs": [
    {
     "name": "stdout",
     "output_type": "stream",
     "text": [
      "4 1\n"
     ]
    }
   ],
   "source": [
    "n_samples, n_features = x.shape\n",
    "print(n_samples, n_features)\n",
    "\n",
    "input_size = n_features \n",
    "output_size = 1 # may be because we want to predict a single value for each data-pt.\n",
    "\n",
    "\n",
    "learning_rate = 0.01\n",
    "n_iter = 200\n",
    "loss = nn.MSELoss()"
   ]
  },
  {
   "cell_type": "code",
   "execution_count": 6,
   "id": "5d9908d3",
   "metadata": {},
   "outputs": [],
   "source": [
    "class LinearRegression(nn.Module):\n",
    "    def __init__(self, input_dim, output_dim):\n",
    "        super(LinearRegression, self).__init__()\n",
    "        \n",
    "        #define layers\n",
    "        self.lin = nn.Linear(input_dim, output_dim)\n",
    "    \n",
    "    def forward(self, x):\n",
    "        return self.lin(x)"
   ]
  },
  {
   "cell_type": "code",
   "execution_count": 8,
   "id": "83cfac7a",
   "metadata": {},
   "outputs": [],
   "source": [
    "x_test = torch.tensor([[3]], dtype=torch.float)"
   ]
  },
  {
   "cell_type": "code",
   "execution_count": 9,
   "id": "c9a5e197",
   "metadata": {},
   "outputs": [
    {
     "name": "stdout",
     "output_type": "stream",
     "text": [
      "Prediction before training: f(5) = -0.361\n"
     ]
    }
   ],
   "source": [
    "model = LinearRegression(input_size, output_size)\n",
    "print(f'Prediction before training: f(5) = {model(x_test).item():.3f}')"
   ]
  },
  {
   "cell_type": "code",
   "execution_count": 10,
   "id": "1e52eb02",
   "metadata": {},
   "outputs": [
    {
     "name": "stdout",
     "output_type": "stream",
     "text": [
      "epoch 10: w = 1.5435541868209839, loss = 1.20947492\n",
      "epoch 20: w = 1.780914306640625, loss = 0.12718883\n",
      "epoch 30: w = 1.8159600496292114, loss = 0.09785819\n",
      "epoch 40: w = 1.8185561895370483, loss = 0.09584749\n",
      "epoch 50: w = 1.8160226345062256, loss = 0.09461641\n",
      "epoch 60: w = 1.812751293182373, loss = 0.09347420\n",
      "epoch 70: w = 1.8094457387924194, loss = 0.09239890\n",
      "epoch 80: w = 1.8062169551849365, loss = 0.09138618\n",
      "epoch 90: w = 1.8030800819396973, loss = 0.09043242\n",
      "epoch 100: w = 1.8000352382659912, loss = 0.08953423\n",
      "epoch 110: w = 1.797080397605896, loss = 0.08868821\n",
      "epoch 120: w = 1.794212818145752, loss = 0.08789146\n",
      "epoch 130: w = 1.791429877281189, loss = 0.08714109\n",
      "epoch 140: w = 1.7887290716171265, loss = 0.08643450\n",
      "epoch 150: w = 1.786108136177063, loss = 0.08576886\n",
      "epoch 160: w = 1.783564567565918, loss = 0.08514208\n",
      "epoch 170: w = 1.7810962200164795, loss = 0.08455175\n",
      "epoch 180: w = 1.7787007093429565, loss = 0.08399587\n",
      "epoch 190: w = 1.7763758897781372, loss = 0.08347219\n",
      "epoch 200: w = 1.7741198539733887, loss = 0.08297911\n"
     ]
    }
   ],
   "source": [
    "optimizer = torch.optim.SGD(model.parameters(), lr=learning_rate)\n",
    "\n",
    "for epoch in range (n_iter):\n",
    "    y_pred = model(x)\n",
    "    l = loss(y, y_pred)\n",
    "    l.backward() # dl/dw\n",
    "    optimizer.step() # update weights\n",
    "    optimizer.zero_grad() # reset accumulated gradients to 0\n",
    "    if(epoch%10 == 9):\n",
    "        [w, b] = model.parameters()\n",
    "        print(f'epoch {epoch+1}: w = {w[0][0].item()}, loss = {l:.8f}')"
   ]
  },
  {
   "cell_type": "code",
   "execution_count": 12,
   "id": "4cc4007c",
   "metadata": {},
   "outputs": [
    {
     "name": "stdout",
     "output_type": "stream",
     "text": [
      "Prediction after training: f(3) = 5.604\n"
     ]
    }
   ],
   "source": [
    "print(f'Prediction after training: f(3) = {model(x_test).item():.3f}')"
   ]
  },
  {
   "cell_type": "code",
   "execution_count": null,
   "id": "1980f093",
   "metadata": {},
   "outputs": [],
   "source": []
  }
 ],
 "metadata": {
  "kernelspec": {
   "display_name": "Python 3 (ipykernel)",
   "language": "python",
   "name": "python3"
  },
  "language_info": {
   "codemirror_mode": {
    "name": "ipython",
    "version": 3
   },
   "file_extension": ".py",
   "mimetype": "text/x-python",
   "name": "python",
   "nbconvert_exporter": "python",
   "pygments_lexer": "ipython3",
   "version": "3.10.9"
  }
 },
 "nbformat": 4,
 "nbformat_minor": 5
}
