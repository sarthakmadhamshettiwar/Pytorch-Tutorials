{
 "cells": [
  {
   "cell_type": "code",
   "execution_count": 1,
   "id": "0f8a9e32",
   "metadata": {},
   "outputs": [],
   "source": [
    "import torch"
   ]
  },
  {
   "cell_type": "markdown",
   "id": "de450e48",
   "metadata": {},
   "source": [
    "**tensor operations**"
   ]
  },
  {
   "cell_type": "code",
   "execution_count": 15,
   "id": "3bef1134",
   "metadata": {},
   "outputs": [],
   "source": [
    "a = torch.tensor(1)\n",
    "b = torch.tensor(2)"
   ]
  },
  {
   "cell_type": "code",
   "execution_count": 16,
   "id": "85b51023",
   "metadata": {},
   "outputs": [
    {
     "data": {
      "text/plain": [
       "tensor(1)"
      ]
     },
     "execution_count": 16,
     "metadata": {},
     "output_type": "execute_result"
    }
   ],
   "source": [
    "a"
   ]
  },
  {
   "cell_type": "code",
   "execution_count": 17,
   "id": "af6f5338",
   "metadata": {},
   "outputs": [
    {
     "data": {
      "text/plain": [
       "torch.Size([])"
      ]
     },
     "execution_count": 17,
     "metadata": {},
     "output_type": "execute_result"
    }
   ],
   "source": [
    "a.shape"
   ]
  },
  {
   "cell_type": "code",
   "execution_count": 26,
   "id": "ac37ed49",
   "metadata": {},
   "outputs": [],
   "source": [
    "a = torch.tensor([[1, 2]])\n",
    "b = torch.tensor([[1],[2]])"
   ]
  },
  {
   "cell_type": "code",
   "execution_count": 35,
   "id": "cd161cb1",
   "metadata": {},
   "outputs": [
    {
     "name": "stdout",
     "output_type": "stream",
     "text": [
      "torch.Size([1, 2]) torch.Size([2, 1])\n"
     ]
    }
   ],
   "source": [
    "print(a.shape, b.shape)"
   ]
  },
  {
   "cell_type": "code",
   "execution_count": 36,
   "id": "4d059995",
   "metadata": {},
   "outputs": [],
   "source": [
    "b = torch.ones(1,2)"
   ]
  },
  {
   "cell_type": "code",
   "execution_count": 38,
   "id": "98bb0d35",
   "metadata": {},
   "outputs": [
    {
     "data": {
      "text/plain": [
       "tensor([[2., 3.]])"
      ]
     },
     "execution_count": 38,
     "metadata": {},
     "output_type": "execute_result"
    }
   ],
   "source": [
    "a+b"
   ]
  },
  {
   "cell_type": "code",
   "execution_count": 39,
   "id": "e416107e",
   "metadata": {},
   "outputs": [
    {
     "data": {
      "text/plain": [
       "tensor([[0., 1.]])"
      ]
     },
     "execution_count": 39,
     "metadata": {},
     "output_type": "execute_result"
    }
   ],
   "source": [
    "a-b"
   ]
  },
  {
   "cell_type": "code",
   "execution_count": 43,
   "id": "54142cba",
   "metadata": {},
   "outputs": [
    {
     "name": "stdout",
     "output_type": "stream",
     "text": [
      "tensor([[1., 2.]])\n",
      "tensor([[1., 2.]])\n"
     ]
    }
   ],
   "source": [
    "print(a*b) #element-wise multiplication\n",
    "print(torch.mul(a,b))"
   ]
  },
  {
   "cell_type": "code",
   "execution_count": 44,
   "id": "b3264864",
   "metadata": {},
   "outputs": [
    {
     "ename": "RuntimeError",
     "evalue": "mat1 and mat2 shapes cannot be multiplied (1x2 and 1x2)",
     "output_type": "error",
     "traceback": [
      "\u001b[1;31m---------------------------------------------------------------------------\u001b[0m",
      "\u001b[1;31mRuntimeError\u001b[0m                              Traceback (most recent call last)",
      "Input \u001b[1;32mIn [44]\u001b[0m, in \u001b[0;36m<cell line: 1>\u001b[1;34m()\u001b[0m\n\u001b[1;32m----> 1\u001b[0m \u001b[43mtorch\u001b[49m\u001b[38;5;241;43m.\u001b[39;49m\u001b[43mmatmul\u001b[49m\u001b[43m(\u001b[49m\u001b[43ma\u001b[49m\u001b[43m,\u001b[49m\u001b[43mb\u001b[49m\u001b[43m)\u001b[49m\n",
      "\u001b[1;31mRuntimeError\u001b[0m: mat1 and mat2 shapes cannot be multiplied (1x2 and 1x2)"
     ]
    }
   ],
   "source": [
    "torch.matmul(a,b) # matrix multiplication"
   ]
  },
  {
   "cell_type": "code",
   "execution_count": 61,
   "id": "6bb72583",
   "metadata": {},
   "outputs": [],
   "source": [
    "a = torch.tensor([[1,2]], dtype=torch.float) \n",
    "#changed datatype to avoid dtype error in matmul"
   ]
  },
  {
   "cell_type": "code",
   "execution_count": 64,
   "id": "97cb4417",
   "metadata": {},
   "outputs": [
    {
     "name": "stdout",
     "output_type": "stream",
     "text": [
      "tensor([[ 1.4389, -0.9760,  1.9807, -0.9520, -1.8536],\n",
      "        [ 0.8924, -0.9110, -0.7668, -1.7203,  0.6885]])\n"
     ]
    }
   ],
   "source": [
    "r = torch.randn(2,5)\n",
    "print(r)"
   ]
  },
  {
   "cell_type": "markdown",
   "id": "9b1b52a6",
   "metadata": {},
   "source": [
    "**matrix multiplication, slicing, transpose, reshaping**"
   ]
  },
  {
   "cell_type": "code",
   "execution_count": 65,
   "id": "c8e4df78",
   "metadata": {},
   "outputs": [
    {
     "name": "stdout",
     "output_type": "stream",
     "text": [
      "tensor([[ 3.2237, -2.7980,  0.4471, -4.3925, -0.4765]])\n"
     ]
    }
   ],
   "source": [
    "# (1,2) X (2, 5) => (1, 5)\n",
    "c = torch.matmul(a, r)\n",
    "print(c)"
   ]
  },
  {
   "cell_type": "code",
   "execution_count": 66,
   "id": "9427986b",
   "metadata": {},
   "outputs": [
    {
     "data": {
      "text/plain": [
       "torch.Size([1, 5])"
      ]
     },
     "execution_count": 66,
     "metadata": {},
     "output_type": "execute_result"
    }
   ],
   "source": [
    "c.shape"
   ]
  },
  {
   "cell_type": "code",
   "execution_count": 76,
   "id": "d1fd3812",
   "metadata": {},
   "outputs": [
    {
     "name": "stdout",
     "output_type": "stream",
     "text": [
      "tensor([-2.7980,  0.4471])\n",
      "tensor([-2.7980,  0.4471, -4.3925])\n"
     ]
    }
   ],
   "source": [
    "print(c[0][1:3])\n",
    "print(c[0][1:-1])"
   ]
  },
  {
   "cell_type": "code",
   "execution_count": 84,
   "id": "627ffbff",
   "metadata": {},
   "outputs": [
    {
     "name": "stdout",
     "output_type": "stream",
     "text": [
      "tensor([ 3.2237, -2.7980,  0.4471, -4.3925, -0.4765])\n"
     ]
    }
   ],
   "source": [
    "print(c[0][:]) # print entire row"
   ]
  },
  {
   "cell_type": "code",
   "execution_count": 91,
   "id": "1522cb17",
   "metadata": {},
   "outputs": [],
   "source": [
    "transposed_r = torch.transpose(r, 0, 1) #swap rows(0) with cols(1)"
   ]
  },
  {
   "cell_type": "code",
   "execution_count": 92,
   "id": "0f44aba6",
   "metadata": {},
   "outputs": [
    {
     "data": {
      "text/plain": [
       "tensor([[ 1.4389,  0.8924],\n",
       "        [-0.9760, -0.9110],\n",
       "        [ 1.9807, -0.7668],\n",
       "        [-0.9520, -1.7203],\n",
       "        [-1.8536,  0.6885]])"
      ]
     },
     "execution_count": 92,
     "metadata": {},
     "output_type": "execute_result"
    }
   ],
   "source": [
    "transposed_r"
   ]
  },
  {
   "cell_type": "code",
   "execution_count": 93,
   "id": "238a6234",
   "metadata": {},
   "outputs": [
    {
     "data": {
      "text/plain": [
       "torch.Size([5, 2])"
      ]
     },
     "execution_count": 93,
     "metadata": {},
     "output_type": "execute_result"
    }
   ],
   "source": [
    "transposed_r.shape"
   ]
  },
  {
   "cell_type": "code",
   "execution_count": null,
   "id": "7abaa92c",
   "metadata": {},
   "outputs": [],
   "source": []
  },
  {
   "cell_type": "code",
   "execution_count": 94,
   "id": "bdeed52c",
   "metadata": {},
   "outputs": [],
   "source": [
    "x = torch.randn(1,12)"
   ]
  },
  {
   "cell_type": "code",
   "execution_count": 95,
   "id": "e3d61839",
   "metadata": {},
   "outputs": [
    {
     "data": {
      "text/plain": [
       "tensor([[ 0.1761, -0.1710, -0.5520,  0.5596, -0.0193, -1.8063,  1.1434, -0.0116,\n",
       "          1.6118, -1.6359, -2.1352,  0.0660]])"
      ]
     },
     "execution_count": 95,
     "metadata": {},
     "output_type": "execute_result"
    }
   ],
   "source": [
    "x"
   ]
  },
  {
   "cell_type": "code",
   "execution_count": 96,
   "id": "6312ea44",
   "metadata": {},
   "outputs": [],
   "source": [
    "y = x.view(2,6)\n",
    "z = x.view(4,3)"
   ]
  },
  {
   "cell_type": "code",
   "execution_count": 98,
   "id": "33bc889d",
   "metadata": {},
   "outputs": [
    {
     "name": "stdout",
     "output_type": "stream",
     "text": [
      "tensor([[ 0.1761, -0.1710, -0.5520,  0.5596, -0.0193, -1.8063],\n",
      "        [ 1.1434, -0.0116,  1.6118, -1.6359, -2.1352,  0.0660]]) torch.Size([2, 6])\n",
      "tensor([[ 0.1761, -0.1710, -0.5520],\n",
      "        [ 0.5596, -0.0193, -1.8063],\n",
      "        [ 1.1434, -0.0116,  1.6118],\n",
      "        [-1.6359, -2.1352,  0.0660]]) torch.Size([4, 3])\n"
     ]
    }
   ],
   "source": [
    "print(y, y.shape)\n",
    "print(z, z.shape)"
   ]
  },
  {
   "cell_type": "code",
   "execution_count": null,
   "id": "f5c57755",
   "metadata": {},
   "outputs": [],
   "source": []
  },
  {
   "cell_type": "code",
   "execution_count": null,
   "id": "d3e6a9f0",
   "metadata": {},
   "outputs": [],
   "source": []
  },
  {
   "cell_type": "markdown",
   "id": "a9abc904",
   "metadata": {},
   "source": [
    "**Autograd for vector**"
   ]
  },
  {
   "cell_type": "code",
   "execution_count": 36,
   "id": "f0595d01",
   "metadata": {},
   "outputs": [],
   "source": [
    "a = torch.tensor([1,1], dtype=torch.float, requires_grad = True)\n",
    "b = torch.tensor([2,3], dtype=torch.float, requires_grad = True)"
   ]
  },
  {
   "cell_type": "code",
   "execution_count": 39,
   "id": "d1f3be5b",
   "metadata": {},
   "outputs": [
    {
     "name": "stdout",
     "output_type": "stream",
     "text": [
      "tensor([-1., -3.], grad_fn=<SubBackward0>)\n"
     ]
    }
   ],
   "source": [
    "Q = 3*a**2 - 2*b # Assume it to be loss func\n",
    "print(Q)"
   ]
  },
  {
   "cell_type": "code",
   "execution_count": 41,
   "id": "788d3c0c",
   "metadata": {},
   "outputs": [],
   "source": [
    "# Now we want to find derivative of Q wrt to 'a' and 'b', but since 'a' and 'b' are vector we will need external_grad\n",
    "external_grad = torch.tensor([1., 1.])\n",
    "Q.backward(gradient=external_grad)"
   ]
  },
  {
   "cell_type": "code",
   "execution_count": 42,
   "id": "aeb67e46",
   "metadata": {},
   "outputs": [
    {
     "data": {
      "text/plain": [
       "tensor([6., 6.])"
      ]
     },
     "execution_count": 42,
     "metadata": {},
     "output_type": "execute_result"
    }
   ],
   "source": [
    "a.grad"
   ]
  },
  {
   "cell_type": "code",
   "execution_count": 43,
   "id": "22e08936",
   "metadata": {},
   "outputs": [
    {
     "data": {
      "text/plain": [
       "tensor([-2., -2.])"
      ]
     },
     "execution_count": 43,
     "metadata": {},
     "output_type": "execute_result"
    }
   ],
   "source": [
    "b.grad"
   ]
  },
  {
   "cell_type": "code",
   "execution_count": 44,
   "id": "0f2e4eaf",
   "metadata": {},
   "outputs": [
    {
     "name": "stdout",
     "output_type": "stream",
     "text": [
      "tensor([True, True])\n",
      "tensor([True, True])\n"
     ]
    }
   ],
   "source": [
    "print(a.grad == 6*a)\n",
    "print(b.grad == -2)"
   ]
  },
  {
   "cell_type": "markdown",
   "id": "007263e8",
   "metadata": {},
   "source": [
    "**Running Entire Trainin Loop in Pytorch for Linear Regression**"
   ]
  },
  {
   "cell_type": "code",
   "execution_count": null,
   "id": "eb6b078d",
   "metadata": {},
   "outputs": [],
   "source": [
    "import torch\n",
    "import torch.nn as nn"
   ]
  },
  {
   "cell_type": "code",
   "execution_count": 2,
   "id": "1118bae0",
   "metadata": {},
   "outputs": [
    {
     "name": "stdout",
     "output_type": "stream",
     "text": [
      "Shape of x : torch.Size([4, 1])\n",
      "Shape of y : torch.Size([4, 1])\n"
     ]
    }
   ],
   "source": [
    "x = torch.tensor([[1],[2],[3],[4]], dtype=torch.float32)\n",
    "y = torch.tensor([[2],[4],[6],[8]], dtype=torch.float32)\n",
    "print(f'Shape of x : {x.shape}')\n",
    "print(f'Shape of y : {y.shape}')"
   ]
  },
  {
   "cell_type": "code",
   "execution_count": 4,
   "id": "f4d9c054",
   "metadata": {},
   "outputs": [
    {
     "name": "stdout",
     "output_type": "stream",
     "text": [
      "4 1\n"
     ]
    }
   ],
   "source": [
    "n_samples, n_features = x.shape\n",
    "print(n_samples, n_features)\n",
    "\n",
    "input_size = n_features \n",
    "output_size = 1 # we want to predict a single value for each data-pt."
   ]
  },
  {
   "cell_type": "code",
   "execution_count": 5,
   "id": "17c5dddb",
   "metadata": {},
   "outputs": [],
   "source": [
    "# Setting hyper-parameters and loss functions\n",
    "learning_rate = 0.01\n",
    "n_iter = 200\n",
    "loss = nn.MSELoss()"
   ]
  },
  {
   "cell_type": "code",
   "execution_count": 6,
   "id": "5d9908d3",
   "metadata": {},
   "outputs": [],
   "source": [
    "class LinearRegression(nn.Module):\n",
    "    def __init__(self, input_dim, output_dim):\n",
    "        super(LinearRegression, self).__init__()\n",
    "        \n",
    "        #Creating linear layer object\n",
    "        self.lin = nn.Linear(input_dim, output_dim)\n",
    "    \n",
    "    def forward(self, x):\n",
    "        return self.lin(x)"
   ]
  },
  {
   "cell_type": "code",
   "execution_count": 7,
   "id": "83cfac7a",
   "metadata": {},
   "outputs": [],
   "source": [
    "x_test = torch.tensor([[3]], dtype=torch.float)"
   ]
  },
  {
   "cell_type": "code",
   "execution_count": 8,
   "id": "c9a5e197",
   "metadata": {},
   "outputs": [
    {
     "name": "stdout",
     "output_type": "stream",
     "text": [
      "Prediction before training: f(5) = 0.079\n"
     ]
    }
   ],
   "source": [
    "model = LinearRegression(input_size, output_size)\n",
    "print(f'Prediction before training: f(5) = {model(x_test).item():.3f}')"
   ]
  },
  {
   "cell_type": "code",
   "execution_count": 9,
   "id": "1e52eb02",
   "metadata": {},
   "outputs": [
    {
     "name": "stdout",
     "output_type": "stream",
     "text": [
      "epoch 10: w = 1.365449070930481, loss = 1.26208627\n",
      "epoch 20: w = 1.614207148551941, loss = 0.19602853\n",
      "epoch 30: w = 1.6626006364822388, loss = 0.15893763\n",
      "epoch 40: w = 1.6785181760787964, loss = 0.14902224\n",
      "epoch 50: w = 1.6889715194702148, loss = 0.14033122\n",
      "epoch 60: w = 1.6983128786087036, loss = 0.13216269\n",
      "epoch 70: w = 1.7072491645812988, loss = 0.12447022\n",
      "epoch 80: w = 1.7159006595611572, loss = 0.11722538\n",
      "epoch 90: w = 1.7242931127548218, loss = 0.11040228\n",
      "epoch 100: w = 1.7324373722076416, loss = 0.10397622\n",
      "epoch 110: w = 1.7403409481048584, loss = 0.09792437\n",
      "epoch 120: w = 1.7480111122131348, loss = 0.09222460\n",
      "epoch 130: w = 1.755454421043396, loss = 0.08685670\n",
      "epoch 140: w = 1.7626779079437256, loss = 0.08180115\n",
      "epoch 150: w = 1.7696882486343384, loss = 0.07703989\n",
      "epoch 160: w = 1.7764912843704224, loss = 0.07255582\n",
      "epoch 170: w = 1.7830934524536133, loss = 0.06833270\n",
      "epoch 180: w = 1.7895007133483887, loss = 0.06435538\n",
      "epoch 190: w = 1.7957186698913574, loss = 0.06060952\n",
      "epoch 200: w = 1.8017529249191284, loss = 0.05708179\n"
     ]
    }
   ],
   "source": [
    "optimizer = torch.optim.SGD(model.parameters(), lr=learning_rate) # Creating optimizer object\n",
    "\n",
    "for epoch in range (n_iter):\n",
    "    \n",
    "    y_pred = model(x) # make prediction\n",
    "    \n",
    "    l = loss(y, y_pred) # Calculate loss\n",
    "    \n",
    "    l.backward() # dl/dw\n",
    "    \n",
    "    optimizer.step() # update weights\n",
    "    \n",
    "    optimizer.zero_grad() # reset accumulated gradients to 0\n",
    "    \n",
    "    if(epoch%10 == 9):\n",
    "        [w, b] = model.parameters()\n",
    "        print(f'epoch {epoch+1}: w = {w[0][0].item()}, loss = {l:.8f}')"
   ]
  },
  {
   "cell_type": "code",
   "execution_count": 10,
   "id": "4cc4007c",
   "metadata": {},
   "outputs": [
    {
     "name": "stdout",
     "output_type": "stream",
     "text": [
      "Prediction after training: f(3) = 5.988\n"
     ]
    }
   ],
   "source": [
    "print(f'Prediction after training: f(3) = {model(x_test).item():.3f}')"
   ]
  },
  {
   "cell_type": "code",
   "execution_count": null,
   "id": "cdecc811",
   "metadata": {},
   "outputs": [],
   "source": []
  },
  {
   "cell_type": "markdown",
   "id": "6d0afd73",
   "metadata": {},
   "source": [
    "**Using Activation functions**"
   ]
  },
  {
   "cell_type": "code",
   "execution_count": 11,
   "id": "79bab9b2",
   "metadata": {},
   "outputs": [],
   "source": [
    "# CrossEntropy loss in Pytorch (applies softmax)\n",
    "# nn.LogSoftmax + nn.NLLLoss\n",
    "# NLLLoss = negative log likelihood loss\n",
    "\n",
    "loss = nn.CrossEntropyLoss()\n",
    "y = torch.tensor([0]) # single training example\n",
    "\n",
    "# output from NN is of size nSamples x nClasses = 1 x 3\n",
    "good_pred = torch.tensor([[10, 0.111, 0.00002]]) # output of single example with scores of three diff classes\n",
    "bad_pred = torch.tensor([[4.5,5.111,0.222]])"
   ]
  },
  {
   "cell_type": "code",
   "execution_count": 13,
   "id": "39470804",
   "metadata": {},
   "outputs": [
    {
     "name": "stdout",
     "output_type": "stream",
     "text": [
      "Better Prediction : 9.619726915843785e-05\n",
      "Bad Prediction : 1.0494722127914429\n"
     ]
    }
   ],
   "source": [
    "good_loss = loss(good_pred, y)\n",
    "bad_loss = loss(bad_pred, y)\n",
    "\n",
    "print('Better Prediction :', good_loss.item())\n",
    "print('Bad Prediction :', bad_loss.item())"
   ]
  },
  {
   "cell_type": "code",
   "execution_count": 15,
   "id": "1691f617",
   "metadata": {},
   "outputs": [
    {
     "name": "stdout",
     "output_type": "stream",
     "text": [
      "torch.return_types.max(\n",
      "values=tensor([5.1110]),\n",
      "indices=tensor([1]))\n"
     ]
    }
   ],
   "source": [
    "# Get the predicted class and its raw score\n",
    "print(torch.max(bad_pred, axis=1))"
   ]
  },
  {
   "cell_type": "code",
   "execution_count": null,
   "id": "14ba5fff",
   "metadata": {},
   "outputs": [],
   "source": []
  },
  {
   "cell_type": "markdown",
   "id": "d4bf32d3",
   "metadata": {},
   "source": [
    "**Logistic Regression**"
   ]
  },
  {
   "cell_type": "code",
   "execution_count": 16,
   "id": "cbd7ef79",
   "metadata": {},
   "outputs": [
    {
     "data": {
      "image/png": "[encoded data removed]",
      "text/plain": [
       "<Figure size 432x288 with 1 Axes>"
      ]
     },
     "metadata": {
      "needs_background": "light"
     },
     "output_type": "display_data"
    }
   ],
   "source": [
    "# Make a linearly seperable dataset\n",
    "import matplotlib.pyplot as plt\n",
    "from sklearn import datasets\n",
    "\n",
    "X, y = datasets.make_blobs(n_samples=100, centers=2, n_features=2, center_box=(0, 10))\n",
    "plt.plot(X[:, 0][y == 0], X[:, 1][y == 0], 'g^')\n",
    "plt.plot(X[:, 0][y == 1], X[:, 1][y == 1], 'bs')\n",
    "plt.show()"
   ]
  },
  {
   "cell_type": "code",
   "execution_count": 169,
   "id": "7b197483",
   "metadata": {},
   "outputs": [
    {
     "name": "stdout",
     "output_type": "stream",
     "text": [
      "tensor([ 3.5086, 10.2121]) tensor([1.])\n"
     ]
    }
   ],
   "source": [
    "print(X[44], y[44]) # 1 represent blue, 0 represent green"
   ]
  },
  {
   "cell_type": "code",
   "execution_count": 53,
   "id": "ba046695",
   "metadata": {},
   "outputs": [],
   "source": [
    "n_samples, n_features = X.shape\n",
    "input_size = n_features\n",
    "output_size = 1"
   ]
  },
  {
   "cell_type": "code",
   "execution_count": 159,
   "id": "41ab34de",
   "metadata": {},
   "outputs": [],
   "source": [
    "# Setting hyper-parameters and loss functions\n",
    "learning_rate = 0.01\n",
    "n_iter = 200\n",
    "loss = nn.BCELoss()"
   ]
  },
  {
   "cell_type": "code",
   "execution_count": 32,
   "id": "63c2e983",
   "metadata": {},
   "outputs": [
    {
     "name": "stdout",
     "output_type": "stream",
     "text": [
      "tensor(0.0101, dtype=torch.float64)\n"
     ]
    }
   ],
   "source": [
    "# Extra cell\n",
    "true = torch.tensor([[1]], dtype=float)\n",
    "predicted = torch.tensor([[0.99]], dtype=float)\n",
    "print(loss(predicted, true))"
   ]
  },
  {
   "cell_type": "markdown",
   "id": "fabdab1d",
   "metadata": {},
   "source": [
    "* BCELoss = -ylog(x) - (1-y)log(1-x)\n",
    "* log is with a base 'e'"
   ]
  },
  {
   "cell_type": "code",
   "execution_count": 154,
   "id": "65b1889d",
   "metadata": {},
   "outputs": [],
   "source": [
    "class LogisticRegression(nn.Module):\n",
    "    def __init__(self, n_input_features):\n",
    "        super(LogisticRegression, self).__init__()\n",
    "        self.linear = nn.Linear(n_input_features, 1)\n",
    "        \n",
    "    def forward(self, x):\n",
    "        y_predicted = torch.sigmoid(self.linear(x))\n",
    "        return y_predicted"
   ]
  },
  {
   "cell_type": "code",
   "execution_count": 161,
   "id": "311072cb",
   "metadata": {},
   "outputs": [],
   "source": [
    "model = LogisticRegression(input_size) # Create object of model"
   ]
  },
  {
   "cell_type": "code",
   "execution_count": 162,
   "id": "354d8c36",
   "metadata": {},
   "outputs": [],
   "source": [
    "# must be initialized after model initialization\n",
    "optimizer = torch.optim.SGD(model.parameters(), lr=learning_rate) "
   ]
  },
  {
   "cell_type": "code",
   "execution_count": 163,
   "id": "baa7558e",
   "metadata": {},
   "outputs": [
    {
     "name": "stdout",
     "output_type": "stream",
     "text": [
      "tensor([[0.7973]])\n"
     ]
    }
   ],
   "source": [
    "# Sample input output (Always remeber to use torch.no_grad while inference)\n",
    "with torch.no_grad():\n",
    "    x_test = torch.tensor([[1.231, 4.212]])\n",
    "    y_predicted = model(x_test)\n",
    "    print(y_predicted)"
   ]
  },
  {
   "cell_type": "code",
   "execution_count": 120,
   "id": "fda2282c",
   "metadata": {},
   "outputs": [],
   "source": [
    "import numpy as np"
   ]
  },
  {
   "cell_type": "code",
   "execution_count": null,
   "id": "73211ef0",
   "metadata": {},
   "outputs": [],
   "source": [
    "# convert numpy into torch tensor\n",
    "X = torch.from_numpy(X.astype(np.float32)) \n",
    "y = torch.from_numpy(y.astype(np.float32)) #"
   ]
  },
  {
   "cell_type": "code",
   "execution_count": 128,
   "id": "2cba3fe6",
   "metadata": {},
   "outputs": [
    {
     "data": {
      "text/plain": [
       "torch.Size([100])"
      ]
     },
     "execution_count": 128,
     "metadata": {},
     "output_type": "execute_result"
    }
   ],
   "source": [
    "y.shape"
   ]
  },
  {
   "cell_type": "code",
   "execution_count": 147,
   "id": "ec3babae",
   "metadata": {},
   "outputs": [
    {
     "data": {
      "text/plain": [
       "torch.Size([100, 1])"
      ]
     },
     "execution_count": 147,
     "metadata": {},
     "output_type": "execute_result"
    }
   ],
   "source": [
    "y = y.view(100,1)\n",
    "y.shape"
   ]
  },
  {
   "cell_type": "code",
   "execution_count": 165,
   "id": "86c32985",
   "metadata": {},
   "outputs": [
    {
     "name": "stdout",
     "output_type": "stream",
     "text": [
      "epoch 10: loss = 1.24256945\n",
      "epoch 20: loss = 0.81212091\n",
      "epoch 30: loss = 0.60804063\n",
      "epoch 40: loss = 0.49266165\n",
      "epoch 50: loss = 0.41426125\n",
      "epoch 60: loss = 0.35725510\n",
      "epoch 70: loss = 0.31426603\n",
      "epoch 80: loss = 0.28089035\n",
      "epoch 90: loss = 0.25432169\n",
      "epoch 100: loss = 0.23271099\n",
      "epoch 110: loss = 0.21480499\n",
      "epoch 120: loss = 0.19973102\n",
      "epoch 130: loss = 0.18686602\n",
      "epoch 140: loss = 0.17575508\n",
      "epoch 150: loss = 0.16605908\n",
      "epoch 160: loss = 0.15752046\n",
      "epoch 170: loss = 0.14994040\n",
      "epoch 180: loss = 0.14316307\n",
      "epoch 190: loss = 0.13706471\n",
      "epoch 200: loss = 0.13154581\n"
     ]
    }
   ],
   "source": [
    "for epoch in range(n_iter):\n",
    "    # Fwd pass and loss calcn\n",
    "    y_predicted = model(X) \n",
    "    l = loss(y_predicted, y)\n",
    "    \n",
    "    #bkw pass\n",
    "    l.backward()\n",
    "    \n",
    "    #update weights\n",
    "    optimizer.step()\n",
    "    \n",
    "    #zero grad\n",
    "    optimizer.zero_grad()\n",
    "    \n",
    "    if(epoch%10 == 9):\n",
    "        [w, b] = model.parameters()\n",
    "        print(f'epoch {epoch+1}: loss = {l:.8f}')"
   ]
  },
  {
   "cell_type": "code",
   "execution_count": 166,
   "id": "103c3595",
   "metadata": {},
   "outputs": [
    {
     "name": "stdout",
     "output_type": "stream",
     "text": [
      "tensor([[0.0446]])\n"
     ]
    }
   ],
   "source": [
    "with torch.no_grad():\n",
    "    print(model(torch.tensor([[6.55, 1]])))\n",
    "    "
   ]
  },
  {
   "cell_type": "markdown",
   "id": "0717c7a9",
   "metadata": {},
   "source": [
    "* classified [6.65, 1] as green: True"
   ]
  },
  {
   "cell_type": "code",
   "execution_count": null,
   "id": "fd09b609",
   "metadata": {},
   "outputs": [],
   "source": []
  }
 ],
 "metadata": {
  "kernelspec": {
   "display_name": "Python 3 (ipykernel)",
   "language": "python",
   "name": "python3"
  },
  "language_info": {
   "codemirror_mode": {
    "name": "ipython",
    "version": 3
   },
   "file_extension": ".py",
   "mimetype": "text/x-python",
   "name": "python",
   "nbconvert_exporter": "python",
   "pygments_lexer": "ipython3",
   "version": "3.10.9"
  }
 },
 "nbformat": 4,
 "nbformat_minor": 5
}
